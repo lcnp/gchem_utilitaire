{
 "cells": [
  {
   "cell_type": "code",
   "execution_count": null,
   "id": "64735aae",
   "metadata": {},
   "outputs": [],
   "source": [
    "\"\"\"\n",
    "\n",
    "VÉRIFICATION DE L'IMPORTATION DES DONNÉES GÉOCHIMIQUES DANS L'APPLICATION GCHEM - DATA LOADER DU LCNP\n",
    "\n",
    "Comparaison du fichier Excel d'importation dans la bd et du fichier CSV exporté de la bd correspondant,\n",
    "pour vérifier que toutes les données aient bien été importées dans la bd.\n",
    "\n",
    "\"\"\"\n",
    "\n",
    "import pandas as pd\n",
    "pd.set_option('display.max_rows', None)\n",
    "import numpy as np"
   ]
  },
  {
   "cell_type": "code",
   "execution_count": null,
   "id": "3489194d",
   "metadata": {},
   "outputs": [],
   "source": [
    "# Préciser le numéro du rapport géochimique\n",
    "report_num = 'VAN13000162'\n",
    "\n",
    "df1 = pd.read_excel('../Data/' + report_num + '.xlsx')\n",
    "df2 = pd.read_csv('../Data/' + report_num + '_telecharge.csv')\n",
    "\n",
    "df1.columns = (df1.loc[2] + '_' + df1.loc[5] + '_' + df1.loc[3]).tolist()\n",
    "df1 = df1.drop(range(0,6))\n",
    "df1 = df1.loc[:, df1.columns.notnull()]\n",
    "df1 = df1.reset_index(drop=True)\n",
    "df1 = df1.rename(columns={'Analyte Symbol_Analysis Method_Unit Symbol' : 'SAMPLENAME'})\n",
    "df1 = df1.sort_index(axis=1)\n",
    "\n",
    "df2 = df2.drop(df2.columns[[0, 1, 2]], axis = 1)\n",
    "df2 = df2.sort_index(axis=1)"
   ]
  },
  {
   "cell_type": "code",
   "execution_count": null,
   "id": "c9ef46c7",
   "metadata": {},
   "outputs": [],
   "source": [
    "# Vérifie que tous les échantillons ont été importés dans la bd\n",
    "pd.merge(df1['SAMPLENAME'], df2['SAMPLENAME'], on = ['SAMPLENAME'], how = 'outer', indicator = True)"
   ]
  },
  {
   "cell_type": "code",
   "execution_count": null,
   "id": "55056d9a",
   "metadata": {},
   "outputs": [],
   "source": [
    "# Analytmeascode dans le fichier d'importation mais pas dans l'export\n",
    "df1.columns.difference(df2.columns)"
   ]
  },
  {
   "cell_type": "code",
   "execution_count": null,
   "id": "ef3ac2e3",
   "metadata": {},
   "outputs": [],
   "source": [
    "# Analytmeascode dans l'export mais pas dans le fichier d'importation\n",
    "df2.columns.difference(df1.columns)"
   ]
  },
  {
   "cell_type": "code",
   "execution_count": null,
   "id": "b4b87906",
   "metadata": {},
   "outputs": [],
   "source": [
    "# Si tous les échantillons et les analytmeascode sont valides, effectuer une vérification des valeurs importées\n",
    "df1 = df1.astype(str)\n",
    "df2 = df2.astype(str)\n",
    "\n",
    "comp = df1.eq(df2)\n",
    "\n",
    "# Exportation de la comparaison en csv\n",
    "comp.to_csv('../Exports/' + report_num + '_comp.csv', index=False)"
   ]
  },
  {
   "cell_type": "code",
   "execution_count": null,
   "id": "59ef0994",
   "metadata": {},
   "outputs": [],
   "source": []
  }
 ],
 "metadata": {
  "kernelspec": {
   "display_name": "Python 3",
   "language": "python",
   "name": "python3"
  },
  "language_info": {
   "codemirror_mode": {
    "name": "ipython",
    "version": 3
   },
   "file_extension": ".py",
   "mimetype": "text/x-python",
   "name": "python",
   "nbconvert_exporter": "python",
   "pygments_lexer": "ipython3",
   "version": "3.8.8"
  }
 },
 "nbformat": 4,
 "nbformat_minor": 5
}
